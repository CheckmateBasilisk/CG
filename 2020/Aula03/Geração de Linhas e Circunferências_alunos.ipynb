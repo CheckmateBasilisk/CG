{
 "cells": [
  {
   "cell_type": "markdown",
   "metadata": {},
   "source": [
    "# Definição da Classe para Gerenciar a tela"
   ]
  },
  {
   "cell_type": "code",
   "execution_count": 1,
   "metadata": {},
   "outputs": [],
   "source": [
    "class Screen(object):\n",
    "\n",
    "    # Construtor da classe\n",
    "    def __init__(self, title, bgColor, width, height):\n",
    "        self.title = title       # título da janela\n",
    "        self.bgColor = bgColor   # cor de fundo\n",
    "        self.width = width       # largura da janela\n",
    "        self.height = height     # altura da janela\n",
    "        self.screen = pygame.display.set_mode(self.size()) # define o tamanho da tela\n",
    "        pygame.display.set_caption(self.title)             # define o título da janela\n",
    "        \n",
    "    # Executa o pipeline gráfico\n",
    "    def run(self, obj):\n",
    "        while True:  # laço principal\n",
    "            # captura eventos\n",
    "            for event in pygame.event.get(): \n",
    "                \n",
    "                # Captura evento de clicar em botão para fechar\n",
    "                if event.type == pygame.QUIT:\n",
    "                    return pygame.quit()\n",
    "            \n",
    "            # preencha a tela com a cor de fundo\n",
    "            self.screen.fill(self.bgColor)\n",
    "            \n",
    "            # gera o desenho\n",
    "            obj.draw(self);\n",
    "            \n",
    "            # aplica o antialiasing\n",
    "            # self.meanFilter()\n",
    "            \n",
    "            # atualiza a tela \n",
    "            pygame.display.update()\n",
    "        \n",
    "        \n",
    "    # retorna um vetor com o tamanho da tela\n",
    "    def size(self):\n",
    "        return (self.width, self.height)\n",
    "    \n",
    "    # modifica um pixel na tela com a cor desejada\n",
    "    def setPixel(self, x, y, color):\n",
    "        self.screen.set_at((x, y), color)\n",
    "    \n",
    "    # filtro da média para o antialising\n",
    "    def meanFilter(self):\n",
    "        # Captura a matrix da tela\n",
    "        #frameBuffer2 = pygame.PixelArray(self.screen)\n",
    "        \n",
    "        from copy import copy\n",
    "        frameBuffer = pygame.surfarray.array3d(self.screen)\n",
    "        #print(frameBuffer)\n",
    "        \n",
    "        import numpy as np\n",
    "        mask = np.ones((3, 3)) * 1/9 \n",
    "        \n",
    "        #print(mask)\n",
    "               \n",
    "        for i in range(1, self.width - 1):\n",
    "            for j in range(1, self.height - 1):               \n",
    "                temp = np.zeros((3))\n",
    "                \n",
    "                for k in range(-1,2):\n",
    "                    for l in range(-1,2):\n",
    "                        for b in range(3):\n",
    "                            temp[b] = temp[b] + frameBuffer[i + k][j + l][b] * mask[k + 1][l + 1]\n",
    "                        \n",
    "                #print(pygame.Color(int(temp[0]), int(temp[1]), int(temp[2]), 255))\n",
    "                        \n",
    "                self.setPixel(i, j, pygame.Color(int(temp[0]), int(temp[1]), int(temp[2]), 255));\n",
    "                #frameBuffer2[i][j] = pygame.Color(int(temp[0]), int(temp[1]), int(temp[2]), 255);"
   ]
  },
  {
   "cell_type": "markdown",
   "metadata": {},
   "source": [
    "# Definição da Classe para Primitiva de Linha"
   ]
  },
  {
   "cell_type": "code",
   "execution_count": 2,
   "metadata": {},
   "outputs": [],
   "source": [
    "class Line(object):\n",
    "    # construtor da classe\n",
    "    def __init__(self, x1, y1, x2, y2, color):\n",
    "        self.x1 = x1       # coordenada x do primeiro ponto\n",
    "        self.x2 = x2       # coordenada x do segundo ponto\n",
    "        self.y1 = y1       # coordenada y do primeiro ponto\n",
    "        self.y2 = y2       # coordenada y do segundo ponto\n",
    "        self.color = color # cor do objeto\n",
    "    \n",
    "    # renderiza a linha desejada na tela\n",
    "    def draw(self, screen):\n",
    "        self.dda(screen)\n",
    "\n",
    "    # Algoritmo DDA\n",
    "    def dda(self, screen):      \n",
    "        # Definição e Inicialização de Variáveis locais\n",
    "        dx, dy, k = 0, 0, 0\n",
    "        x_inc, y_inc = 0.0, 0.0\n",
    "        x, y = 0.0, 0.0\n",
    "    \n",
    "        # Define os deslocamentos nas direções x e y\n",
    "        dx = self.x2 - self.x1\n",
    "        dy = self.y2 - self.y1\n",
    "    \n",
    "        # Define qual a direção de incremento fixo\n",
    "        if abs(dx) > abs(dy):\n",
    "            iter = abs(dx)\n",
    "        else:\n",
    "            iter = abs(dy)\n",
    "        \n",
    "        # Define os incrementos para cada direção\n",
    "        x_inc = dx/iter\n",
    "        y_inc = dy/iter\n",
    "\n",
    "        # Define o ponto inicial\n",
    "        x = self.x1\n",
    "        y = self.y1\n",
    "\n",
    "        # Desenha o ponto inicial na tela\n",
    "        screen.setPixel(round(x), round(y), self.color)\n",
    "\n",
    "        # Geração e renderização dos pontos seguintes da linha\n",
    "        for k in range(iter):\n",
    "            # Gera o próximo ponto\n",
    "            x = x + x_inc\n",
    "            y = y + y_inc\n",
    "            \n",
    "            # Desenha o ponto\n",
    "            screen.setPixel(round(x), round(y), self.color)\n",
    "            \n",
    "    def bresenham(self, screen):\n",
    "        # Definição e inicialização de variáveis locais\n",
    "        dx, dy, d = 0, 0, 0\n",
    "        incrE, incrNE = 0, 0\n",
    "        x, y, xFinal = 0, 0, 0\n",
    "        \n",
    "        # Define os deslocamentos absolutos nas direções x e y\n",
    "        dx = abs(self.x2 - self.x1)\n",
    "        dy = abs(self.y2 - self.y1)\n",
    "        \n",
    "        # Define o d de teste inicial\n",
    "        d = 2 * dy - dx\n",
    "        \n",
    "        # Define os incrementos nas direções x e y\n",
    "        incrE = 2 * dy\n",
    "        incrNE = 2 * (dy - dx)\n",
    "        \n",
    "        # Troca a ordem dos pontos em caso de segundo ponto à esquerda de primeiro ponto\n",
    "        if self.x1 > self.x2:\n",
    "            x = self.x2\n",
    "            y = self.y2\n",
    "            xFinal = self.x1\n",
    "        else:\n",
    "            x = self.x1\n",
    "            y = self.y1\n",
    "            xFinal = self.x2\n",
    "        \n",
    "        # Desenha o ponto inicial na tela\n",
    "        screen.setPixel(x, y, self.color)\n",
    "        \n",
    "        # Gera e renderiza os pontos seguintes da linha\n",
    "        while x < xFinal:\n",
    "            # Gera o próximo ponto\n",
    "            x = x + 1\n",
    "            \n",
    "            if d < 0:\n",
    "                d = d + incrE\n",
    "            else:\n",
    "                y = y + 1\n",
    "                d = d + incrNE\n",
    "            \n",
    "            # Desenha o próximo ponto\n",
    "            screen.setPixel(x, y, self.color)"
   ]
  },
  {
   "cell_type": "markdown",
   "metadata": {},
   "source": [
    "# Programa Principal"
   ]
  },
  {
   "cell_type": "code",
   "execution_count": 3,
   "metadata": {},
   "outputs": [
    {
     "name": "stdout",
     "output_type": "stream",
     "text": [
      "pygame 1.9.6\n",
      "Hello from the pygame community. https://www.pygame.org/contribute.html\n"
     ]
    }
   ],
   "source": [
    "# Carregamento de bibliotecas\n",
    "import pygame"
   ]
  },
  {
   "cell_type": "code",
   "execution_count": 4,
   "metadata": {},
   "outputs": [
    {
     "data": {
      "text/plain": [
       "(6, 0)"
      ]
     },
     "execution_count": 4,
     "metadata": {},
     "output_type": "execute_result"
    }
   ],
   "source": [
    "# Inicialização do PyGame\n",
    "pygame.init()            "
   ]
  },
  {
   "cell_type": "code",
   "execution_count": 5,
   "metadata": {},
   "outputs": [],
   "source": [
    "# Criação do Objeto de Tela\n",
    "screen = Screen(\"Tela\", pygame.Color(255, 255, 255, 255), 700, 700)"
   ]
  },
  {
   "cell_type": "code",
   "execution_count": 6,
   "metadata": {},
   "outputs": [],
   "source": [
    "# Definição de uma linha de coordenadas (10,10) a (100,100) com cor preta\n",
    "line1 = Line(10, 10, 100, 100, pygame.Color(0, 0, 0, 255))"
   ]
  },
  {
   "cell_type": "code",
   "execution_count": 7,
   "metadata": {},
   "outputs": [],
   "source": [
    "# Execução do Programa\n",
    "screen.run(line1)"
   ]
  },
  {
   "cell_type": "markdown",
   "metadata": {},
   "source": [
    "# Criação de uma classe que contém o desenho"
   ]
  },
  {
   "cell_type": "code",
   "execution_count": 12,
   "metadata": {},
   "outputs": [],
   "source": [
    "class Picture(object):\n",
    "    # Construtor da Classe\n",
    "    def __init__(self):\n",
    "        self.primitivas = [] # Define uma lista de primitivas para representar um desenho\n",
    "    \n",
    "    def draw(self, screen):\n",
    "        # Telhado\n",
    "        l1 = Line(350, 50, 50, 250, pygame.Color(255, 0, 0, 255))\n",
    "        l2 = Line(50, 250, 650, 250, pygame.Color(255, 0, 0, 255))\n",
    "        l3 = Line(650, 250, 350, 50, pygame.Color(255, 0, 0, 255))\n",
    "        \n",
    "        # Parede\n",
    "        l4 = Line(50, 250, 50, 650, pygame.Color(0, 200, 100, 255))\n",
    "        l5 = Line(50, 650, 650, 650, pygame.Color(0, 200, 100, 255))\n",
    "        l6 = Line(650, 650, 650, 250, pygame.Color(0, 200, 100, 255))\n",
    "        \n",
    "        circ = Circle(350, 450, 150, pygame.Color(0, 0, 255, 255));\n",
    "        \n",
    "        # Insere primitivas na lista\n",
    "        self.primitivas.append(l1);\n",
    "        self.primitivas.append(l2);\n",
    "        self.primitivas.append(l3);\n",
    "        self.primitivas.append(l4);\n",
    "        self.primitivas.append(l5);\n",
    "        self.primitivas.append(l6);\n",
    "        self.primitivas.append(circ);\n",
    "        \n",
    "        # Desenha cada primitiva que está na lista\n",
    "        for item in self.primitivas:\n",
    "            item.draw(screen);\n",
    "        "
   ]
  },
  {
   "cell_type": "code",
   "execution_count": null,
   "metadata": {},
   "outputs": [],
   "source": [
    "# Lembre-se de carregar novamente a tela\n",
    "# Criação do Objeto de Tela\n",
    "screen = Screen(\"Tela\", pygame.Color(255, 255, 255, 255), 700, 700)\n",
    "\n",
    "# executa o desenho\n",
    "pic = Picture();\n",
    "\n",
    "screen.run(pic);"
   ]
  },
  {
   "cell_type": "markdown",
   "metadata": {},
   "source": [
    "# Definição da Classe para Primitiva de Circunferência"
   ]
  },
  {
   "cell_type": "code",
   "execution_count": 10,
   "metadata": {},
   "outputs": [],
   "source": [
    "class Circle(object):\n",
    "    # construtor da classe\n",
    "    def __init__(self, xc, yc, raio, color):\n",
    "        self.xc = xc       # coordenada x do centro\n",
    "        self.yc = yc       # coordenada y do centro\n",
    "        self.raio = raio   # raio da circunferência\n",
    "        self.color = color # cor do objeto\n",
    "    \n",
    "    # renderiza a circunferência desejada na tela\n",
    "    # Algoritmo de Bresenham\n",
    "    def draw(self, screen):\n",
    "        # Definição e Inicialização de Variáveis locais      \n",
    "        # Coniderando a circunferência ao redor da origem, mas renderizada transladada\n",
    "        x = 0                # x inicial\n",
    "        y = self.raio        # y inicial\n",
    "        d = 1 - self.raio    # d de teste inicial\n",
    "\n",
    "        # Desenha os pontos inicias de cada quadrante\n",
    "        self.drawCirclePoints(x, y, screen)\n",
    "        \n",
    "        # Gera os novos pontos e os renderiza\n",
    "        while x < y:\n",
    "            \n",
    "            if d < 0:   # Direção E\n",
    "                d = d + 2 * x + 3\n",
    "            else:       # Direção SE\n",
    "                d = d + 2 * (x - y) + 5\n",
    "                y = y - 1\n",
    "            \n",
    "            x = x + 1\n",
    "\n",
    "            self.drawCirclePoints(x, y, screen)\n",
    "            \n",
    "    def drawCirclePoints(self, x, y, screen):\n",
    "        xCentro = self.xc\n",
    "        yCentro = self.yc\n",
    "        screen.setPixel(xCentro + x, yCentro + y, self.color)\n",
    "        screen.setPixel(xCentro + y, yCentro + x, self.color)\n",
    "        screen.setPixel(xCentro + y, yCentro - x, self.color)\n",
    "        screen.setPixel(xCentro + x, yCentro - y, self.color)\n",
    "        screen.setPixel(xCentro - x, yCentro - y, self.color)\n",
    "        screen.setPixel(xCentro - y, yCentro - x, self.color)\n",
    "        screen.setPixel(xCentro - y, yCentro + x, self.color)\n",
    "        screen.setPixel(xCentro - x, yCentro + y, self.color)"
   ]
  },
  {
   "cell_type": "code",
   "execution_count": 11,
   "metadata": {},
   "outputs": [],
   "source": [
    "# Lembre-se de carregar novamente a tela\n",
    "# Criação do Objeto de Tela\n",
    "screen = Screen(\"Tela\", pygame.Color(255, 255, 255, 255), 700, 700)\n",
    "\n",
    "# executa o desenho\n",
    "circ = Circle(350, 450, 150, pygame.Color(0, 0, 255, 255));\n",
    "\n",
    "screen.run(circ);"
   ]
  },
  {
   "cell_type": "code",
   "execution_count": null,
   "metadata": {},
   "outputs": [],
   "source": []
  }
 ],
 "metadata": {
  "kernelspec": {
   "display_name": "Python 3",
   "language": "python",
   "name": "python3"
  },
  "language_info": {
   "codemirror_mode": {
    "name": "ipython",
    "version": 3
   },
   "file_extension": ".py",
   "mimetype": "text/x-python",
   "name": "python",
   "nbconvert_exporter": "python",
   "pygments_lexer": "ipython3",
   "version": "3.7.1"
  }
 },
 "nbformat": 4,
 "nbformat_minor": 2
}
